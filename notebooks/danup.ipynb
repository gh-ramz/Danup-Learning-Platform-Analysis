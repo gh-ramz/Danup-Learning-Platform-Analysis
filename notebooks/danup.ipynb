{
  "cells": [
    {
      "cell_type": "code",
      "execution_count": 13,
      "metadata": {
        "id": "YmBbudndXB8k"
      },
      "outputs": [],
      "source": [
        "import requests\n",
        "from bs4 import BeautifulSoup\n",
        "import pandas as pd\n",
        "import numpy as np\n",
        "import json"
      ]
    },
    {
      "cell_type": "code",
      "execution_count": 2,
      "metadata": {
        "id": "7BjdFtj_XB8o"
      },
      "outputs": [],
      "source": [
        "class danup:\n",
        "\n",
        "    link = []\n",
        "    website = []\n",
        "    website_en = []\n",
        "    category = []\n",
        "    title = []\n",
        "    teacher = []\n",
        "    duration = []\n",
        "    price = []\n",
        "    discount = []\n",
        "\n",
        "    def convert_numbers(self, t):\n",
        "        t = t.replace('۰', '0')\n",
        "        t = t.replace('۱', '1')\n",
        "        t = t.replace('۲', '2')\n",
        "        t = t.replace('۳', '3')\n",
        "        t = t.replace('۴', '4')\n",
        "        t = t.replace('۵', '5')\n",
        "        t = t.replace('۶', '6')\n",
        "        t = t.replace('۷', '7')\n",
        "        t = t.replace('۸', '8')\n",
        "        t = t.replace('۹', '9')\n",
        "        t = t.replace('\\n', '')\n",
        "        return t\n",
        "\n",
        "    def crawl_data(self, Link, Category):\n",
        "        site = requests.get(Link)\n",
        "        soup = BeautifulSoup(site.text, 'html.parser')\n",
        "\n",
        "        numbers = []\n",
        "        try:\n",
        "            p = soup.find('ul', {'class': 'page-numbers'}).find_all('li')\n",
        "            for i in range(len(p)):\n",
        "                s = self.convert_numbers(p[i].text)\n",
        "                if s.isdigit():\n",
        "                    numbers.append(int(s))\n",
        "            numbers.sort()\n",
        "        except:\n",
        "            p = [1]\n",
        "            numbers.append(1)\n",
        "\n",
        "        All_Links = []\n",
        "        for j in range(1, numbers[-1]+1):\n",
        "            site = requests.get(Link + f\"page/{j}\")\n",
        "            soup = BeautifulSoup(site.text, 'html.parser')\n",
        "            #soup.prettify()\n",
        "            x = soup.find_all('div' , {'class': 'courses-holder'})\n",
        "            x2 = x[0].find_all('div', {'class', 'products grid-view courses-3-columns'})\n",
        "            x3 = x2[0].find_all('div', {'class': 'course-item'})\n",
        "\n",
        "            for i in range(len(x3)):\n",
        "                #All_Links.append(x3[i].a['href'])\n",
        "                All_Links.append(x3[i].find('h3', {'class': 'course-title'}).a['href'])\n",
        "                ti = x3[i].find('h3', {'class': 'course-title'}).text\n",
        "                ti = ti.replace('\\n', '')\n",
        "                self.title.append(ti)\n",
        "                self.link.append(x3[i].find('h3', {'class': 'course-title'}).a['href'])\n",
        "                if 1 == 1:\n",
        "                    try:\n",
        "                        te = x3[i].find('div', {'class': 'teacher-box'}).a.text\n",
        "                        te = te.replace('\\n', '')\n",
        "                        te = te.replace('\\u200c', ' ')\n",
        "                        self.teacher.append(te)\n",
        "                    except:\n",
        "                        self.teacher.append(\"\")\n",
        "                try:\n",
        "                    x4 = x3[i].find('div', {'class': 'course-price'})\n",
        "                    pr = x4.find('bdi').text\n",
        "                    pr = pr.replace('\\n', '')\n",
        "                    pr = pr.replace('\\xa0', ' ')\n",
        "                    self.price.append(pr)\n",
        "                except:\n",
        "                    self.price.append('0')\n",
        "                try:\n",
        "                    dis = x4.find('ins').text\n",
        "                    dis = dis.replace('\\n', '')\n",
        "                    dis = dis.replace('\\xa0', ' ')\n",
        "                    self.discount.append(dis)\n",
        "                except:\n",
        "                    self.discount.append('0')\n",
        "\n",
        "        for i in range(len(All_Links)):\n",
        "            site2 = requests.get(All_Links[i])\n",
        "            soup2 = BeautifulSoup(site2.text, 'html.parser')\n",
        "            #soup2\n",
        "            try:\n",
        "                x = soup2.find('div', {'class': 'product-single-aside sticky-sidebar'})\n",
        "                x2 = x.find_all('div', {'class': 'product-info-box'})\n",
        "                #len(x2)\n",
        "                x3 = x2[1].find_all('div', {'class': 'meta-info-unit'})\n",
        "\n",
        "                for i in range(len(x3)):\n",
        "                    if \"ساعت\" in x3[i].text or \"دقیقه\" in x3[i].text:\n",
        "                        T = True\n",
        "                        index = i\n",
        "                        break\n",
        "                    else:\n",
        "                        T = False\n",
        "\n",
        "                if T == True:\n",
        "                    self.duration.append(x3[index].text)\n",
        "                else:\n",
        "                    self.duration.append(\"0\")\n",
        "            except:\n",
        "                self.duration.append(\"0\")\n",
        "\n",
        "            self.website.append(\"داناپ\")\n",
        "            self.website_en.append(\"danup\")\n",
        "            self.category.append(Category)\n",
        "\n",
        "\n",
        "    def save(self, l, w, w_en, c, ti, te, du, p, di, path):\n",
        "        dic = {\n",
        "            \"link\": l,\n",
        "            \"website\": w,\n",
        "            \"website_en\": w_en,\n",
        "            \"category\": c,\n",
        "            \"title\": ti,\n",
        "            \"teacher\": te,\n",
        "            \"duration\": du,\n",
        "            \"price\": p,\n",
        "            \"discount\": di,\n",
        "        }\n",
        "\n",
        "        with open(path, 'w', encoding='utf-8') as outfile:\n",
        "            json.dump(dic, outfile)\n",
        "        dic.clear()"
      ]
    },
    {
      "cell_type": "code",
      "execution_count": 10,
      "metadata": {
        "id": "GzMTtRrwXB8s"
      },
      "outputs": [],
      "source": [
        "ob1 = danup()"
      ]
    },
    {
      "cell_type": "code",
      "execution_count": 55,
      "metadata": {
        "id": "chVjCQS5XB8t"
      },
      "outputs": [],
      "source": [
        "web = \"https://danup.ir/course-category/programming/web-development/\"\n",
        "mobile = \"https://danup.ir/course-category/programming/mobile-development/\"\n",
        "game = \"https://danup.ir/course-category/programming/game-development/\"\n",
        "database = \"https://danup.ir/course-category/programming/database-development/\"\n",
        "programming_tools = \"https://danup.ir/course-category/programming/programming-tools/\"\n",
        "iot = \"https://danup.ir/course-category/programming/internet-of-things/\"\n",
        "os = \"https://danup.ir/course-category/programming/operating-system/\"\n",
        "\n",
        "startup = \"https://danup.ir/course-category/business/startup/\"\n",
        "sales = \"https://danup.ir/course-category/business/sales/\"\n",
        "management = \"https://danup.ir/course-category/business/management/\"\n",
        "accounting = \"https://danup.ir/course-category/business/accounting/\"\n",
        "hiring = \"https://danup.ir/course-category/business/hiring/\"\n",
        "process_management = \"https://danup.ir/course-category/business/process-management/\"\n",
        "systematization = \"https://danup.ir/course-category/business/systematization/\"\n",
        "instagram_monetization = \"https://danup.ir/course-category/business/instagram-monetization/\"\n",
        "communication_skills = \"https://danup.ir/course-category/business/communication-skills/\"\n",
        "business_tools = \"https://danup.ir/course-category/business/business-tools/\"\n",
        "coaching = \"https://danup.ir/course-category/business/coaching/\"\n",
        "human_resources = \"https://danup.ir/course-category/business/human-resources/\"\n",
        "\n",
        "digital_marketing = \"https://danup.ir/course-category/marketing/digital-marketing/\"\n",
        "b2b_marketing = \"https://danup.ir/course-category/marketing/b2b-marketing/\"\n",
        "branding = \"https://danup.ir/course-category/marketing/branding/\"\n",
        "marketing_strategy = \"https://danup.ir/course-category/marketing/marketing-strategy/\"\n",
        "\n",
        "video_editing = \"https://danup.ir/course-category/multimedia/video-editing/\"\n",
        "animation = \"https://danup.ir/course-category/multimedia/animation/\"\n",
        "film_making = \"https://danup.ir/course-category/multimedia/film-making/\"\n",
        "motion_graphics = \"https://danup.ir/course-category/multimedia/motion-graphics/\"\n",
        "\n",
        "illustrator = \"https://danup.ir/course-category/art-graphic/illustrator/\"\n",
        "photoshop = \"https://danup.ir/course-category/art-graphic/photoshop/\"\n",
        "corel_draw = \"https://danup.ir/course-category/art-graphic/corel-draw/\"\n",
        "indesign = \"https://danup.ir/course-category/art-graphic/indesign/\"\n",
        "instagram_content_design = \"https://danup.ir/course-category/art-graphic/instagram-content-design/\"\n",
        "user_interface = \"https://danup.ir/course-category/art-graphic/user-interface/\"\n",
        "_3ds_max = \"https://danup.ir/course-category/art-graphic/3ds-max/\"\n",
        "autocad = \"https://danup.ir/course-category/art-graphic/autocad/\"\n",
        "painting = \"https://danup.ir/course-category/art-graphic/painting/\"\n",
        "\n",
        "english_language = \"https://danup.ir/course-category/foreign-language/english-language/\"\n",
        "german_language = \"https://danup.ir/course-category/foreign-language/german-language/\"\n",
        "french_language = \"https://danup.ir/course-category/foreign-language/french-language/\"\n",
        "russian_language = \"https://danup.ir/course-category/foreign-language/russian-language/\"\n",
        "\n",
        "cryptocurrency = \"https://danup.ir/course-category/stock-market-and-cryptocurrency/\"\n",
        "artificial_intelligence = \"https://danup.ir/course-category/data-science-and-artificial-intelligence/\"\n",
        "network_security = \"https://danup.ir/course-category/network-security/\"\n",
        "personal_development = \"https://danup.ir/course-category/personal-development/\"\n",
        "academic_and_engineering = \"https://danup.ir/course-category/academic-and-engineering/\""
      ]
    },
    {
      "cell_type": "code",
      "execution_count": 12,
      "metadata": {
        "id": "08U4aYphXB80"
      },
      "outputs": [],
      "source": [
        "ob1.crawl_data(web, \"طراحی وب،طراحی سایت،طراحی وب سایت،برنامه نویسی،web،website،programming\")"
      ]
    },
    {
      "cell_type": "code",
      "execution_count": 13,
      "metadata": {
        "id": "CHOPnyWLXB81"
      },
      "outputs": [],
      "source": [
        "ob1.crawl_data(mobile, \"برنامه نویسی،برنامه نویسی موبایل،mobile،programming\")"
      ]
    },
    {
      "cell_type": "code",
      "execution_count": 14,
      "metadata": {
        "id": "JCDf1_YjXB81"
      },
      "outputs": [],
      "source": [
        "ob1.crawl_data(game, \"بازی،بازی سازی،game\")"
      ]
    },
    {
      "cell_type": "code",
      "execution_count": 15,
      "metadata": {
        "id": "FrpY4fn2XB82"
      },
      "outputs": [],
      "source": [
        "ob1.crawl_data(database, \"پایگاه داده،دیتابیس،دیتا بیس،database\")"
      ]
    },
    {
      "cell_type": "code",
      "execution_count": 16,
      "metadata": {
        "id": "uEVYD8mXXB82"
      },
      "outputs": [],
      "source": [
        "ob1.crawl_data(programming_tools, \"برنامه نویسی،ابزارهای برنامه نویسی،programming\")"
      ]
    },
    {
      "cell_type": "code",
      "execution_count": 17,
      "metadata": {
        "id": "4D-3zq44XB82"
      },
      "outputs": [],
      "source": [
        "ob1.crawl_data(iot, \"اینترنت اشیا،iot\")"
      ]
    },
    {
      "cell_type": "code",
      "execution_count": 18,
      "metadata": {
        "id": "7oZduemhXB83"
      },
      "outputs": [],
      "source": [
        "ob1.crawl_data(os, \"سیستم عامل،os\")"
      ]
    },
    {
      "cell_type": "code",
      "execution_count": 19,
      "metadata": {
        "id": "N9KVHyCqXB83"
      },
      "outputs": [],
      "source": [
        "ob1.crawl_data(startup, \"استارتاپ،استارت اپ،استارت آپ،کسب و کار،بیزینس،startup،business\")"
      ]
    },
    {
      "cell_type": "code",
      "execution_count": 20,
      "metadata": {
        "id": "wkA0BGUBXB83"
      },
      "outputs": [],
      "source": [
        "ob1.crawl_data(sales, \"کسب وکار،فروش،sales،business\")"
      ]
    },
    {
      "cell_type": "code",
      "execution_count": 21,
      "metadata": {
        "id": "ZWLnHSWHXB84"
      },
      "outputs": [],
      "source": [
        "ob1.crawl_data(management, \"مدیریت،کسب و کار،management،business\")"
      ]
    },
    {
      "cell_type": "code",
      "execution_count": 22,
      "metadata": {
        "id": "Qk0p6HfkXB84"
      },
      "outputs": [],
      "source": [
        "ob1.crawl_data(accounting, \"حسابداری،حساب داری،کسب و کار،business،accounting\")"
      ]
    },
    {
      "cell_type": "code",
      "execution_count": 23,
      "metadata": {
        "id": "AY2ztCDNXB85"
      },
      "outputs": [],
      "source": [
        "ob1.crawl_data(hiring, \"استخدام،کسب و کار،hiring،business\")"
      ]
    },
    {
      "cell_type": "code",
      "execution_count": 24,
      "metadata": {
        "id": "8uKGbtLIXB85"
      },
      "outputs": [],
      "source": [
        "ob1.crawl_data(process_management, \"کسب و کار،مدیریت فرآیند،business،process،management\")"
      ]
    },
    {
      "cell_type": "code",
      "execution_count": 25,
      "metadata": {
        "id": "0NPN7VuzXB86"
      },
      "outputs": [],
      "source": [
        "ob1.crawl_data(systematization, \"کسب و کار،سیستم سازی،systematization،business\")"
      ]
    },
    {
      "cell_type": "code",
      "execution_count": 26,
      "metadata": {
        "id": "bKHpKw2BXB86"
      },
      "outputs": [],
      "source": [
        "ob1.crawl_data(instagram_monetization, \"کسب درآمد،اینستا،اینستاگرام،کسب و کار،کسب درامد،instagram،business\")"
      ]
    },
    {
      "cell_type": "code",
      "execution_count": 27,
      "metadata": {
        "id": "fBtUh6aKXB87"
      },
      "outputs": [],
      "source": [
        "ob1.crawl_data(communication_skills, \"کسب و کار،مهارت،ارتباطی،business،communication،skills\")"
      ]
    },
    {
      "cell_type": "code",
      "execution_count": 28,
      "metadata": {
        "id": "b5msJ5yuXB87"
      },
      "outputs": [],
      "source": [
        "ob1.crawl_data(business_tools, \"کسب و کار،ابزارهای کسب و کار،business tools،business\")"
      ]
    },
    {
      "cell_type": "code",
      "execution_count": 29,
      "metadata": {
        "id": "MvE-gRk_XB87"
      },
      "outputs": [],
      "source": [
        "ob1.crawl_data(coaching, \"کوچ،کوچینگ،مربی،مربیگری،کسب و کار،business،coach،coaching\")"
      ]
    },
    {
      "cell_type": "code",
      "execution_count": 30,
      "metadata": {
        "id": "wxnDDgcLXB88"
      },
      "outputs": [],
      "source": [
        "ob1.crawl_data(human_resources, \"کسب و کار،منابع انسانی،human resources،hr،business\")"
      ]
    },
    {
      "cell_type": "code",
      "execution_count": 31,
      "metadata": {
        "id": "iXZ3cfapXB88"
      },
      "outputs": [],
      "source": [
        "ob1.crawl_data(digital_marketing, \"بازاریابی،مارکتینگ،دیجیتال مارکتینگ،digital marketing،marketing\")"
      ]
    },
    {
      "cell_type": "code",
      "execution_count": 32,
      "metadata": {
        "id": "h2bJ3ePsXB89"
      },
      "outputs": [],
      "source": [
        "ob1.crawl_data(b2b_marketing, \"بازاریابی،مارکتینگ،b2b،marketing\")"
      ]
    },
    {
      "cell_type": "code",
      "execution_count": 33,
      "metadata": {
        "id": "xZzAa6QhXB89"
      },
      "outputs": [],
      "source": [
        "ob1.crawl_data(branding, \"بازاریابی،مارکتینگ،برندینگ،marketing،branding\")"
      ]
    },
    {
      "cell_type": "code",
      "execution_count": 34,
      "metadata": {
        "id": "UmTm5GgNXB8-"
      },
      "outputs": [],
      "source": [
        "ob1.crawl_data(marketing_strategy, \"بازاریابی،مارکتینگ،استراتژی مارکتینگ،marketing،marketing strategy\")"
      ]
    },
    {
      "cell_type": "code",
      "execution_count": 35,
      "metadata": {
        "id": "z4xCzb4ZXB8-"
      },
      "outputs": [],
      "source": [
        "ob1.crawl_data(video_editing, \"چند رسانه ای،تدوین،ویدیو،ویدئو،video،edit،editing،,multimedia،چندرسانه ای\")"
      ]
    },
    {
      "cell_type": "code",
      "execution_count": 36,
      "metadata": {
        "id": "aHoA4n9OXB8_"
      },
      "outputs": [],
      "source": [
        "ob1.crawl_data(animation, \"چندرسانه ای،چند رسانه ای،انیمیشن،animation،multimedia\")"
      ]
    },
    {
      "cell_type": "code",
      "execution_count": 37,
      "metadata": {
        "id": "dOtibx8aXB9A"
      },
      "outputs": [],
      "source": [
        "ob1.crawl_data(film_making, \"چندرسانه ای،چند رسانه ای،فیلم سازی،multimedia،film making\")"
      ]
    },
    {
      "cell_type": "code",
      "execution_count": 38,
      "metadata": {
        "id": "CncHiyvPXB9B"
      },
      "outputs": [],
      "source": [
        "ob1.crawl_data(motion_graphics, \"چندرسانه ای،چند رسانه ای،موشن گرافیک،multimedia،motion graphics\")"
      ]
    },
    {
      "cell_type": "code",
      "execution_count": 39,
      "metadata": {
        "id": "79DftXNkXB9C"
      },
      "outputs": [],
      "source": [
        "ob1.crawl_data(illustrator, \"طراحی،گرافیک،ایلوستریتور،design،graphics،illustrator\")"
      ]
    },
    {
      "cell_type": "code",
      "execution_count": 40,
      "metadata": {
        "id": "qT88-WDuXB9D"
      },
      "outputs": [],
      "source": [
        "ob1.crawl_data(photoshop, \"طراحی،گرافیک،فتوشاپ،design،graphics،photoshop\")"
      ]
    },
    {
      "cell_type": "code",
      "execution_count": 41,
      "metadata": {
        "id": "urvc720RXB9E"
      },
      "outputs": [],
      "source": [
        "ob1.crawl_data(corel_draw, \"طراحی،گرافیک،کورل دراو،design،graphics،corel drawe\")"
      ]
    },
    {
      "cell_type": "code",
      "execution_count": 42,
      "metadata": {
        "id": "ehp0EDTMXB9E"
      },
      "outputs": [],
      "source": [
        "ob1.crawl_data(indesign, \"طراحی،گرافیک،ایندیزاین،design،graphics،indesign\")"
      ]
    },
    {
      "cell_type": "code",
      "execution_count": 43,
      "metadata": {
        "id": "2bV0ih6lXB9E"
      },
      "outputs": [],
      "source": [
        "ob1.crawl_data(instagram_content_design, \"طراحی،گرافیک،اینستا،اینستاگرام،طراحی پست اینستاگرام،design،graphics،instagram\")"
      ]
    },
    {
      "cell_type": "code",
      "execution_count": 44,
      "metadata": {
        "id": "Mq_vuxSqXB9F"
      },
      "outputs": [],
      "source": [
        "ob1.crawl_data(user_interface, \"طراحی،گرافیک،طراحی رابط کاربری،design،graphics،ui،ux،user interface\")"
      ]
    },
    {
      "cell_type": "code",
      "execution_count": 45,
      "metadata": {
        "id": "jH2IVM2XXB9G"
      },
      "outputs": [],
      "source": [
        "ob1.crawl_data(_3ds_max, \"طراحی،گرافیک،سه بعدی مکس،سه بعدی،تری دی،انیمیشن،design،graphics،3d،3d max\")"
      ]
    },
    {
      "cell_type": "code",
      "execution_count": 46,
      "metadata": {
        "id": "khMZygswXB9G"
      },
      "outputs": [],
      "source": [
        "ob1.crawl_data(autocad, \"طراحی،گرافیک،اتوکد،سه بعدی،تری دی،design،graphics،3d،autocad\")"
      ]
    },
    {
      "cell_type": "code",
      "execution_count": 47,
      "metadata": {
        "id": "Tcx2_Q01XB9H"
      },
      "outputs": [],
      "source": [
        "ob1.crawl_data(painting, \"طراحی،گرافیک،نقاشی،design،graphics،painting،\")"
      ]
    },
    {
      "cell_type": "code",
      "execution_count": 48,
      "metadata": {
        "id": "LbtUJ9P1XB9H"
      },
      "outputs": [],
      "source": [
        "ob1.crawl_data(english_language, \"زبان،خارجه،انگلیسی،english،language،خارجی\")"
      ]
    },
    {
      "cell_type": "code",
      "execution_count": 49,
      "metadata": {
        "id": "LYiVHB2uXB9I"
      },
      "outputs": [],
      "source": [
        "ob1.crawl_data(german_language, \"زبان،خارجه،خارجی،language،german\")"
      ]
    },
    {
      "cell_type": "code",
      "execution_count": 50,
      "metadata": {
        "id": "v3qSAXcRXB9I"
      },
      "outputs": [],
      "source": [
        "ob1.crawl_data(french_language, \"زبان،خارجه،خارجی،language،french\")"
      ]
    },
    {
      "cell_type": "code",
      "execution_count": 51,
      "metadata": {
        "id": "yAwev97MXB9J"
      },
      "outputs": [],
      "source": [
        "ob1.crawl_data(russian_language, \"زبان،خارجه،خارجی،language،russian\")"
      ]
    },
    {
      "cell_type": "code",
      "execution_count": 52,
      "metadata": {
        "id": "ZrX9jsgoXB9J"
      },
      "outputs": [],
      "source": [
        "ob1.crawl_data(cryptocurrency, \"بورس،ارز دیجیتال،cryptocurrency\")"
      ]
    },
    {
      "cell_type": "code",
      "execution_count": 56,
      "metadata": {
        "colab": {
          "base_uri": "https://localhost:8080/",
          "height": 263
        },
        "collapsed": true,
        "id": "gBsbPVFeXB9K",
        "outputId": "6d4a069a-e46e-4a5f-f879-27b0733eaa03"
      },
      "outputs": [],
      "source": [
        "ob1.crawl_data(artificial_intelligence, \"هوش مصنوعی,علوم داده،علم داده،یادگیری ماشین،دیتاساینس،دیتا ساینس،ai،artificial intelligence،machine learning،data science\")"
      ]
    },
    {
      "cell_type": "code",
      "execution_count": 57,
      "metadata": {
        "id": "fcjqetx6XB9K"
      },
      "outputs": [],
      "source": [
        "ob1.crawl_data(network_security, \"امنیت،شبکه،network security\")"
      ]
    },
    {
      "cell_type": "code",
      "execution_count": 58,
      "metadata": {
        "id": "JYJAVU2EXB9L"
      },
      "outputs": [],
      "source": [
        "ob1.crawl_data(personal_development, \"توسعه فردی،personal development\")"
      ]
    },
    {
      "cell_type": "code",
      "execution_count": 59,
      "metadata": {
        "id": "YCLvM1ZzXB9M"
      },
      "outputs": [],
      "source": [
        "ob1.crawl_data(academic_and_engineering, \"آکادمیک،دانشگاه،مهندسی،academic،engineering\")"
      ]
    },
    {
      "cell_type": "code",
      "execution_count": null,
      "metadata": {
        "id": "e7qDqP-IXB9M"
      },
      "outputs": [],
      "source": []
    },
    {
      "cell_type": "code",
      "execution_count": 74,
      "metadata": {
        "id": "wY915jaxXB9N"
      },
      "outputs": [],
      "source": [
        "ob1.save(ob1.link, ob1.website, ob1.website_en, ob1.category, ob1.title, ob1.teacher, ob1.duration, ob1.price, ob1.discount, 'C:\\\\Users\\\\Sazgar\\\\Desktop\\\\python\\\\data analys\\\\danup.json')"
      ]
    },
    {
      "cell_type": "markdown",
      "metadata": {},
      "source": []
    },
    {
      "cell_type": "code",
      "execution_count": 15,
      "metadata": {
        "colab": {
          "base_uri": "https://localhost:8080/",
          "height": 597
        },
        "id": "5N1lkkGnXB9N",
        "outputId": "8838454d-9b36-493d-d10e-5afa02182f29"
      },
      "outputs": [
        {
          "name": "stdout",
          "output_type": "stream",
          "text": [
            "                                                link website website_en  \\\n",
            "0  https://danup.ir/courses/typescript-for-beginn...   داناپ      danup   \n",
            "1   https://danup.ir/courses/javascript-for-hackers/   داناپ      danup   \n",
            "2  https://danup.ir/courses/shopping-website-desi...   داناپ      danup   \n",
            "3             https://danup.ir/courses/visual-basic/   داناپ      danup   \n",
            "4           https://danup.ir/courses/linq-in-csharp/   داناپ      danup   \n",
            "\n",
            "                                            category  \\\n",
            "0  طراحی وب،طراحی سایت،طراحی وب سایت،برنامه نویسی...   \n",
            "1  طراحی وب،طراحی سایت،طراحی وب سایت،برنامه نویسی...   \n",
            "2  طراحی وب،طراحی سایت،طراحی وب سایت،برنامه نویسی...   \n",
            "3  طراحی وب،طراحی سایت،طراحی وب سایت،برنامه نویسی...   \n",
            "4  طراحی وب،طراحی سایت،طراحی وب سایت،برنامه نویسی...   \n",
            "\n",
            "                                               title        teacher  \\\n",
            "0                    آموزش تایپ اسکرپیت (TypeScript)    احسان شکاری   \n",
            "1                 آموزش جامع جاوا اسکریپت برای هکرها      مهران کیا   \n",
            "2  مگا پکیج آموزش طراحی سایت (Html, Css, PHP, Boo...  علی وحدت منزه   \n",
            "3  آموزش ویژوال بیسیک Visual Basic – کاملا پروژه ...      رحیم لطفی   \n",
            "4               آموزش کار با دستورات LINQ در سی شارپ      رحیم لطفی   \n",
            "\n",
            "                   duration            price       discount   Season  \n",
            "0   \\n\\n1 ساعت و 31 دقیقه\\n                0              0  تابستان  \n",
            "1   \\n\\n4 ساعت و 56 دقیقه\\n  1,495,000 تومان  299,000 تومان    پاییز  \n",
            "2  \\n\\n46 ساعت و 55 دقیقه\\n  2,498,000 تومان  499,600 تومان  تابستان  \n",
            "3  \\n\\n14 ساعت و 19 دقیقه\\n    998,000 تومان  199,600 تومان  تابستان  \n",
            "4   \\n\\n2 ساعت و 23 دقیقه\\n                0              0  تابستان  \n"
          ]
        },
        {
          "data": {
            "text/plain": [
              "986"
            ]
          },
          "execution_count": 15,
          "metadata": {},
          "output_type": "execute_result"
        }
      ],
      "source": [
        "d = pd.read_json('C:\\\\Users\\\\Sazgar\\\\Desktop\\\\python\\\\data analys\\\\danup.json')\n",
        "df = pd.DataFrame(d)\n",
        "Seasons = ['بهار', 'تابستان', 'پاییز', 'زمستان']\n",
        "df['Season'] =  np.random.choice(Seasons, size=len(df))\n",
        "print(df.head())\n",
        "len(df)"
      ]
    }
  ],
  "metadata": {
    "colab": {
      "provenance": []
    },
    "kernelspec": {
      "display_name": "Python 3",
      "name": "python3"
    },
    "language_info": {
      "codemirror_mode": {
        "name": "ipython",
        "version": 3
      },
      "file_extension": ".py",
      "mimetype": "text/x-python",
      "name": "python",
      "nbconvert_exporter": "python",
      "pygments_lexer": "ipython3",
      "version": "3.12.4"
    }
  },
  "nbformat": 4,
  "nbformat_minor": 0
}
