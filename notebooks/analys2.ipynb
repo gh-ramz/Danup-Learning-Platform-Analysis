{
 "cells": [
  {
   "cell_type": "code",
   "execution_count": 163,
   "metadata": {},
   "outputs": [],
   "source": [
    "import numpy as np\n",
    "import pandas as pd"
   ]
  },
  {
   "cell_type": "code",
   "execution_count": 164,
   "metadata": {},
   "outputs": [],
   "source": [
    "import re\n",
    "\n",
    "def time_to_minutes(time_str):\n",
    "    cleaned_time_str = time_str.strip()\n",
    "    \n",
    "    match = re.match(r\"(\\d+) ساعت و (\\d+) دقیقه\", cleaned_time_str)\n",
    "    if match:\n",
    "        hours, minutes = map(int, match.groups())\n",
    "        return hours * 60 + minutes\n",
    "    else:\n",
    "        return time_str\n"
   ]
  },
  {
   "cell_type": "code",
   "execution_count": 165,
   "metadata": {},
   "outputs": [],
   "source": [
    "file = pd.read_json('C:\\\\Users\\\\Sazgar\\\\Desktop\\\\python\\\\data analys\\\\danup.json')\n",
    "df = pd.DataFrame(file)"
   ]
  },
  {
   "cell_type": "code",
   "execution_count": 166,
   "metadata": {},
   "outputs": [],
   "source": [
    "seasons = ['بهار', 'تابستان', 'پاییز', 'زمستان']\n",
    "df['Season'] = np.random.choice(seasons, size=len(df))"
   ]
  },
  {
   "cell_type": "code",
   "execution_count": 167,
   "metadata": {},
   "outputs": [
    {
     "data": {
      "text/html": [
       "<div>\n",
       "<style scoped>\n",
       "    .dataframe tbody tr th:only-of-type {\n",
       "        vertical-align: middle;\n",
       "    }\n",
       "\n",
       "    .dataframe tbody tr th {\n",
       "        vertical-align: top;\n",
       "    }\n",
       "\n",
       "    .dataframe thead th {\n",
       "        text-align: right;\n",
       "    }\n",
       "</style>\n",
       "<table border=\"1\" class=\"dataframe\">\n",
       "  <thead>\n",
       "    <tr style=\"text-align: right;\">\n",
       "      <th></th>\n",
       "      <th>link</th>\n",
       "      <th>website</th>\n",
       "      <th>website_en</th>\n",
       "      <th>category</th>\n",
       "      <th>title</th>\n",
       "      <th>teacher</th>\n",
       "      <th>duration(min)</th>\n",
       "      <th>price</th>\n",
       "      <th>discount</th>\n",
       "      <th>Season</th>\n",
       "    </tr>\n",
       "  </thead>\n",
       "  <tbody>\n",
       "    <tr>\n",
       "      <th>0</th>\n",
       "      <td>https://danup.ir/courses/typescript-for-beginn...</td>\n",
       "      <td>داناپ</td>\n",
       "      <td>danup</td>\n",
       "      <td>طراحی وب،طراحی سایت،طراحی وب سایت،برنامه نویسی...</td>\n",
       "      <td>آموزش تایپ اسکرپیت (TypeScript)</td>\n",
       "      <td>احسان شکاری</td>\n",
       "      <td>91.0</td>\n",
       "      <td>0</td>\n",
       "      <td>0</td>\n",
       "      <td>بهار</td>\n",
       "    </tr>\n",
       "    <tr>\n",
       "      <th>1</th>\n",
       "      <td>https://danup.ir/courses/javascript-for-hackers/</td>\n",
       "      <td>داناپ</td>\n",
       "      <td>danup</td>\n",
       "      <td>طراحی وب،طراحی سایت،طراحی وب سایت،برنامه نویسی...</td>\n",
       "      <td>آموزش جامع جاوا اسکریپت برای هکرها</td>\n",
       "      <td>مهران کیا</td>\n",
       "      <td>296.0</td>\n",
       "      <td>1,495,000 تومان</td>\n",
       "      <td>299,000 تومان</td>\n",
       "      <td>بهار</td>\n",
       "    </tr>\n",
       "    <tr>\n",
       "      <th>2</th>\n",
       "      <td>https://danup.ir/courses/shopping-website-desi...</td>\n",
       "      <td>داناپ</td>\n",
       "      <td>danup</td>\n",
       "      <td>طراحی وب،طراحی سایت،طراحی وب سایت،برنامه نویسی...</td>\n",
       "      <td>مگا پکیج آموزش طراحی سایت (Html, Css, PHP, Boo...</td>\n",
       "      <td>علی وحدت منزه</td>\n",
       "      <td>2815.0</td>\n",
       "      <td>2,498,000 تومان</td>\n",
       "      <td>499,600 تومان</td>\n",
       "      <td>بهار</td>\n",
       "    </tr>\n",
       "    <tr>\n",
       "      <th>3</th>\n",
       "      <td>https://danup.ir/courses/visual-basic/</td>\n",
       "      <td>داناپ</td>\n",
       "      <td>danup</td>\n",
       "      <td>طراحی وب،طراحی سایت،طراحی وب سایت،برنامه نویسی...</td>\n",
       "      <td>آموزش ویژوال بیسیک Visual Basic – کاملا پروژه ...</td>\n",
       "      <td>رحیم لطفی</td>\n",
       "      <td>859.0</td>\n",
       "      <td>998,000 تومان</td>\n",
       "      <td>199,600 تومان</td>\n",
       "      <td>زمستان</td>\n",
       "    </tr>\n",
       "    <tr>\n",
       "      <th>4</th>\n",
       "      <td>https://danup.ir/courses/linq-in-csharp/</td>\n",
       "      <td>داناپ</td>\n",
       "      <td>danup</td>\n",
       "      <td>طراحی وب،طراحی سایت،طراحی وب سایت،برنامه نویسی...</td>\n",
       "      <td>آموزش کار با دستورات LINQ در سی شارپ</td>\n",
       "      <td>رحیم لطفی</td>\n",
       "      <td>143.0</td>\n",
       "      <td>0</td>\n",
       "      <td>0</td>\n",
       "      <td>بهار</td>\n",
       "    </tr>\n",
       "    <tr>\n",
       "      <th>5</th>\n",
       "      <td>https://danup.ir/courses/asp-net-core/</td>\n",
       "      <td>داناپ</td>\n",
       "      <td>danup</td>\n",
       "      <td>طراحی وب،طراحی سایت،طراحی وب سایت،برنامه نویسی...</td>\n",
       "      <td>پکیج آموزش Asp.net Core (برای ورود به بازار کار)</td>\n",
       "      <td>رحیم لطفی</td>\n",
       "      <td>814.0</td>\n",
       "      <td>3,995,000 تومان</td>\n",
       "      <td>799,000 تومان</td>\n",
       "      <td>بهار</td>\n",
       "    </tr>\n",
       "    <tr>\n",
       "      <th>6</th>\n",
       "      <td>https://danup.ir/courses/design-patterns-in-c-...</td>\n",
       "      <td>داناپ</td>\n",
       "      <td>danup</td>\n",
       "      <td>طراحی وب،طراحی سایت،طراحی وب سایت،برنامه نویسی...</td>\n",
       "      <td>آموزش الگوهای طراحی (Design Patterns) در سی شا...</td>\n",
       "      <td>رحیم لطفی</td>\n",
       "      <td>629.0</td>\n",
       "      <td>798,000 تومان</td>\n",
       "      <td>159,600 تومان</td>\n",
       "      <td>پاییز</td>\n",
       "    </tr>\n",
       "    <tr>\n",
       "      <th>7</th>\n",
       "      <td>https://danup.ir/courses/entity-framework/</td>\n",
       "      <td>داناپ</td>\n",
       "      <td>danup</td>\n",
       "      <td>طراحی وب،طراحی سایت،طراحی وب سایت،برنامه نویسی...</td>\n",
       "      <td>آموزش کار با Entity Framework</td>\n",
       "      <td>رحیم لطفی</td>\n",
       "      <td>355.0</td>\n",
       "      <td>0</td>\n",
       "      <td>0</td>\n",
       "      <td>پاییز</td>\n",
       "    </tr>\n",
       "    <tr>\n",
       "      <th>8</th>\n",
       "      <td>https://danup.ir/courses/asp-net-webform/</td>\n",
       "      <td>داناپ</td>\n",
       "      <td>danup</td>\n",
       "      <td>طراحی وب،طراحی سایت،طراحی وب سایت،برنامه نویسی...</td>\n",
       "      <td>آموزش ASP.NET Webform (پروژه محور)</td>\n",
       "      <td>رحیم لطفی</td>\n",
       "      <td>1077.0</td>\n",
       "      <td>1,998,000 تومان</td>\n",
       "      <td>399,600 تومان</td>\n",
       "      <td>زمستان</td>\n",
       "    </tr>\n",
       "    <tr>\n",
       "      <th>9</th>\n",
       "      <td>https://danup.ir/courses/oop-programming/</td>\n",
       "      <td>داناپ</td>\n",
       "      <td>danup</td>\n",
       "      <td>طراحی وب،طراحی سایت،طراحی وب سایت،برنامه نویسی...</td>\n",
       "      <td>آموزش جامع برنامه نویسی شی گرا OOP</td>\n",
       "      <td>رحیم لطفی</td>\n",
       "      <td>475.0</td>\n",
       "      <td>798,000 تومان</td>\n",
       "      <td>159,600 تومان</td>\n",
       "      <td>زمستان</td>\n",
       "    </tr>\n",
       "    <tr>\n",
       "      <th>10</th>\n",
       "      <td>https://danup.ir/courses/c-sharp-0-to-100/</td>\n",
       "      <td>داناپ</td>\n",
       "      <td>danup</td>\n",
       "      <td>طراحی وب،طراحی سایت،طراحی وب سایت،برنامه نویسی...</td>\n",
       "      <td>پکیج آموزش 0 تا 100 سی شارپ #C (کاملا پروژه محور)</td>\n",
       "      <td>رحیم لطفی</td>\n",
       "      <td>956.0</td>\n",
       "      <td>1,995,000 تومان</td>\n",
       "      <td>399,000 تومان</td>\n",
       "      <td>پاییز</td>\n",
       "    </tr>\n",
       "    <tr>\n",
       "      <th>11</th>\n",
       "      <td>https://danup.ir/courses/ado-net/</td>\n",
       "      <td>داناپ</td>\n",
       "      <td>danup</td>\n",
       "      <td>طراحی وب،طراحی سایت،طراحی وب سایت،برنامه نویسی...</td>\n",
       "      <td>آموزش Ado.NET در سی شارپ</td>\n",
       "      <td>رحیم لطفی</td>\n",
       "      <td>608.0</td>\n",
       "      <td>998,000 تومان</td>\n",
       "      <td>199,600 تومان</td>\n",
       "      <td>زمستان</td>\n",
       "    </tr>\n",
       "    <tr>\n",
       "      <th>12</th>\n",
       "      <td>https://danup.ir/courses/c-sharp-pack/</td>\n",
       "      <td>داناپ</td>\n",
       "      <td>danup</td>\n",
       "      <td>طراحی وب،طراحی سایت،طراحی وب سایت،برنامه نویسی...</td>\n",
       "      <td>پکیج آموزش برنامه نویسی سی شارپ #C</td>\n",
       "      <td>رحیم لطفی</td>\n",
       "      <td>490.0</td>\n",
       "      <td>1,298,000 تومان</td>\n",
       "      <td>259,600 تومان</td>\n",
       "      <td>بهار</td>\n",
       "    </tr>\n",
       "    <tr>\n",
       "      <th>13</th>\n",
       "      <td>https://danup.ir/courses/php-and-mysql/</td>\n",
       "      <td>داناپ</td>\n",
       "      <td>danup</td>\n",
       "      <td>طراحی وب،طراحی سایت،طراحی وب سایت،برنامه نویسی...</td>\n",
       "      <td>پکیج آموزش PHP و MySQL (طراحی پلتفرم آموزشی)</td>\n",
       "      <td>علی وحدت منزه</td>\n",
       "      <td>2443.0</td>\n",
       "      <td>1,998,000 تومان</td>\n",
       "      <td>399,600 تومان</td>\n",
       "      <td>زمستان</td>\n",
       "    </tr>\n",
       "    <tr>\n",
       "      <th>14</th>\n",
       "      <td>https://danup.ir/courses/how-to-translate-a-wo...</td>\n",
       "      <td>داناپ</td>\n",
       "      <td>danup</td>\n",
       "      <td>طراحی وب،طراحی سایت،طراحی وب سایت،برنامه نویسی...</td>\n",
       "      <td>آموزش ترجمه و فارسی سازی قالب وردپرس</td>\n",
       "      <td>سهند کاظم زاده</td>\n",
       "      <td>98.0</td>\n",
       "      <td>345,000 تومان</td>\n",
       "      <td>69,000 تومان</td>\n",
       "      <td>پاییز</td>\n",
       "    </tr>\n",
       "  </tbody>\n",
       "</table>\n",
       "</div>"
      ],
      "text/plain": [
       "                                                 link website website_en  \\\n",
       "0   https://danup.ir/courses/typescript-for-beginn...   داناپ      danup   \n",
       "1    https://danup.ir/courses/javascript-for-hackers/   داناپ      danup   \n",
       "2   https://danup.ir/courses/shopping-website-desi...   داناپ      danup   \n",
       "3              https://danup.ir/courses/visual-basic/   داناپ      danup   \n",
       "4            https://danup.ir/courses/linq-in-csharp/   داناپ      danup   \n",
       "5              https://danup.ir/courses/asp-net-core/   داناپ      danup   \n",
       "6   https://danup.ir/courses/design-patterns-in-c-...   داناپ      danup   \n",
       "7          https://danup.ir/courses/entity-framework/   داناپ      danup   \n",
       "8           https://danup.ir/courses/asp-net-webform/   داناپ      danup   \n",
       "9           https://danup.ir/courses/oop-programming/   داناپ      danup   \n",
       "10         https://danup.ir/courses/c-sharp-0-to-100/   داناپ      danup   \n",
       "11                  https://danup.ir/courses/ado-net/   داناپ      danup   \n",
       "12             https://danup.ir/courses/c-sharp-pack/   داناپ      danup   \n",
       "13            https://danup.ir/courses/php-and-mysql/   داناپ      danup   \n",
       "14  https://danup.ir/courses/how-to-translate-a-wo...   داناپ      danup   \n",
       "\n",
       "                                             category  \\\n",
       "0   طراحی وب،طراحی سایت،طراحی وب سایت،برنامه نویسی...   \n",
       "1   طراحی وب،طراحی سایت،طراحی وب سایت،برنامه نویسی...   \n",
       "2   طراحی وب،طراحی سایت،طراحی وب سایت،برنامه نویسی...   \n",
       "3   طراحی وب،طراحی سایت،طراحی وب سایت،برنامه نویسی...   \n",
       "4   طراحی وب،طراحی سایت،طراحی وب سایت،برنامه نویسی...   \n",
       "5   طراحی وب،طراحی سایت،طراحی وب سایت،برنامه نویسی...   \n",
       "6   طراحی وب،طراحی سایت،طراحی وب سایت،برنامه نویسی...   \n",
       "7   طراحی وب،طراحی سایت،طراحی وب سایت،برنامه نویسی...   \n",
       "8   طراحی وب،طراحی سایت،طراحی وب سایت،برنامه نویسی...   \n",
       "9   طراحی وب،طراحی سایت،طراحی وب سایت،برنامه نویسی...   \n",
       "10  طراحی وب،طراحی سایت،طراحی وب سایت،برنامه نویسی...   \n",
       "11  طراحی وب،طراحی سایت،طراحی وب سایت،برنامه نویسی...   \n",
       "12  طراحی وب،طراحی سایت،طراحی وب سایت،برنامه نویسی...   \n",
       "13  طراحی وب،طراحی سایت،طراحی وب سایت،برنامه نویسی...   \n",
       "14  طراحی وب،طراحی سایت،طراحی وب سایت،برنامه نویسی...   \n",
       "\n",
       "                                                title         teacher  \\\n",
       "0                     آموزش تایپ اسکرپیت (TypeScript)     احسان شکاری   \n",
       "1                  آموزش جامع جاوا اسکریپت برای هکرها       مهران کیا   \n",
       "2   مگا پکیج آموزش طراحی سایت (Html, Css, PHP, Boo...   علی وحدت منزه   \n",
       "3   آموزش ویژوال بیسیک Visual Basic – کاملا پروژه ...       رحیم لطفی   \n",
       "4                آموزش کار با دستورات LINQ در سی شارپ       رحیم لطفی   \n",
       "5    پکیج آموزش Asp.net Core (برای ورود به بازار کار)       رحیم لطفی   \n",
       "6   آموزش الگوهای طراحی (Design Patterns) در سی شا...       رحیم لطفی   \n",
       "7                       آموزش کار با Entity Framework       رحیم لطفی   \n",
       "8                  آموزش ASP.NET Webform (پروژه محور)       رحیم لطفی   \n",
       "9                  آموزش جامع برنامه نویسی شی گرا OOP       رحیم لطفی   \n",
       "10  پکیج آموزش 0 تا 100 سی شارپ #C (کاملا پروژه محور)       رحیم لطفی   \n",
       "11                           آموزش Ado.NET در سی شارپ       رحیم لطفی   \n",
       "12                 پکیج آموزش برنامه نویسی سی شارپ #C       رحیم لطفی   \n",
       "13       پکیج آموزش PHP و MySQL (طراحی پلتفرم آموزشی)   علی وحدت منزه   \n",
       "14               آموزش ترجمه و فارسی سازی قالب وردپرس  سهند کاظم زاده   \n",
       "\n",
       "    duration(min)            price       discount  Season  \n",
       "0            91.0                0              0    بهار  \n",
       "1           296.0  1,495,000 تومان  299,000 تومان    بهار  \n",
       "2          2815.0  2,498,000 تومان  499,600 تومان    بهار  \n",
       "3           859.0    998,000 تومان  199,600 تومان  زمستان  \n",
       "4           143.0                0              0    بهار  \n",
       "5           814.0  3,995,000 تومان  799,000 تومان    بهار  \n",
       "6           629.0    798,000 تومان  159,600 تومان   پاییز  \n",
       "7           355.0                0              0   پاییز  \n",
       "8          1077.0  1,998,000 تومان  399,600 تومان  زمستان  \n",
       "9           475.0    798,000 تومان  159,600 تومان  زمستان  \n",
       "10          956.0  1,995,000 تومان  399,000 تومان   پاییز  \n",
       "11          608.0    998,000 تومان  199,600 تومان  زمستان  \n",
       "12          490.0  1,298,000 تومان  259,600 تومان    بهار  \n",
       "13         2443.0  1,998,000 تومان  399,600 تومان  زمستان  \n",
       "14           98.0    345,000 تومان   69,000 تومان   پاییز  "
      ]
     },
     "execution_count": 167,
     "metadata": {},
     "output_type": "execute_result"
    }
   ],
   "source": [
    "df['duration'] = df['duration'].apply(time_to_minutes)\n",
    "df.rename(columns={'duration':'duration(min)'}, inplace=True)\n",
    "df['duration(min)'] = pd.to_numeric(df['duration(min)'], errors='coerce')\n",
    "df.head(15)"
   ]
  },
  {
   "cell_type": "markdown",
   "metadata": {},
   "source": [
    "### Q1"
   ]
  },
  {
   "cell_type": "code",
   "execution_count": 168,
   "metadata": {},
   "outputs": [
    {
     "name": "stdout",
     "output_type": "stream",
     "text": [
      "811\n"
     ]
    }
   ],
   "source": [
    "cours = set(df['title'].tolist())\n",
    "print(len(cours))"
   ]
  },
  {
   "cell_type": "markdown",
   "metadata": {},
   "source": [
    "### Q2"
   ]
  },
  {
   "cell_type": "code",
   "execution_count": 169,
   "metadata": {},
   "outputs": [
    {
     "name": "stdout",
     "output_type": "stream",
     "text": [
      "207\n"
     ]
    }
   ],
   "source": [
    "teachers = set(df['teacher'].tolist())\n",
    "print(len(teachers))"
   ]
  },
  {
   "cell_type": "markdown",
   "metadata": {},
   "source": [
    "### Q3"
   ]
  },
  {
   "cell_type": "code",
   "execution_count": 170,
   "metadata": {},
   "outputs": [
    {
     "name": "stdout",
     "output_type": "stream",
     "text": [
      "45\n"
     ]
    }
   ],
   "source": [
    "category = set(df['category'].tolist())\n",
    "print(len(category))"
   ]
  },
  {
   "cell_type": "markdown",
   "metadata": {},
   "source": [
    "### Q4 & Q9"
   ]
  },
  {
   "cell_type": "code",
   "execution_count": 171,
   "metadata": {},
   "outputs": [],
   "source": [
    "# ctgry = set(df['category'].tolist())\n",
    "# print(len(ctgry))\n",
    "count_cat = (df.groupby('category').size()).to_dict()\n",
    "countDF = pd.DataFrame(list(count_cat.items()),columns=['category', 'count'])\n",
    "countDF.to_excel('C:\\\\Users\\\\Sazgar\\\\Desktop\\\\python\\\\data analys\\\\category_count.xlsx', index=False )\n",
    "# print(countDF)\n"
   ]
  },
  {
   "cell_type": "markdown",
   "metadata": {},
   "source": [
    "### Q5"
   ]
  },
  {
   "cell_type": "code",
   "execution_count": 172,
   "metadata": {},
   "outputs": [],
   "source": [
    "count_teach = (df.groupby('teacher').size()).to_dict()\n",
    "count_teach_DF = pd.DataFrame(list(count_teach.items()),columns=['teacher', 'count'])\n",
    "count_teach_DF_sort = count_teach_DF.sort_values(by='count', ascending=False)\n",
    "count_teach_DF_sort.to_excel('C:\\\\Users\\\\Sazgar\\\\Desktop\\\\python\\\\data analys\\\\teacher_count.xlsx', index=False)"
   ]
  },
  {
   "cell_type": "markdown",
   "metadata": {},
   "source": [
    "### Q6"
   ]
  },
  {
   "cell_type": "code",
   "execution_count": 173,
   "metadata": {},
   "outputs": [],
   "source": [
    "df['price'] = df['price'].str.replace('تومان','',regex=False)\n",
    "df['price'] = df['price'].str.replace(',','',regex=False)\n",
    "df['price'] = pd.to_numeric(df['price'])\n",
    "total_price_teachers = df.groupby('teacher')['price'].sum().to_dict()\n",
    "total_price_teachers_DF = pd.DataFrame(list(total_price_teachers.items()), columns=['teacher' , 'total price'])\n",
    "total_price_teachers_DF['total price(thousand)'] = total_price_teachers_DF['total price']/10**3\n",
    "total_price_teachers_DF.to_excel('C:\\\\Users\\\\Sazgar\\\\Desktop\\\\python\\\\data analys\\\\teacher_price.xlsx', index= False)"
   ]
  },
  {
   "cell_type": "markdown",
   "metadata": {},
   "source": [
    "### Q7"
   ]
  },
  {
   "cell_type": "code",
   "execution_count": 174,
   "metadata": {},
   "outputs": [],
   "source": [
    "total_teacher_time = df.groupby('teacher')['duration(min)'].sum().to_dict()\n",
    "total_teacher_time_DF = pd.DataFrame(list(total_teacher_time.items()), columns=['teacher', 'total_time(min)'])\n",
    "total_teacher_time_DF['hours'] = total_teacher_time_DF['total_time(min)'] // 60\n",
    "total_teacher_time_DF['min'] = total_teacher_time_DF['total_time(min)'] % 60\n",
    "total_teacher_time_DF_sort = total_teacher_time_DF.sort_values(by='total_time(min)',ascending=False)\n",
    "total_teacher_time_DF_sort.to_excel('C:\\\\Users\\\\Sazgar\\\\Desktop\\\\python\\\\data analys\\\\teacher_time.xlsx', index= False)"
   ]
  },
  {
   "cell_type": "markdown",
   "metadata": {},
   "source": [
    "### Q8"
   ]
  },
  {
   "cell_type": "code",
   "execution_count": 175,
   "metadata": {},
   "outputs": [
    {
     "name": "stdout",
     "output_type": "stream",
     "text": [
      "total duration: 5041.0 hours , 12.0 min\n"
     ]
    }
   ],
   "source": [
    "x = (df['duration(min)'].sum()) #302472 min\n",
    "h = x // 60\n",
    "m = x % 60\n",
    "print(f'total duration: {h} hours , {m} min')\n"
   ]
  },
  {
   "cell_type": "markdown",
   "metadata": {},
   "source": [
    "### Q10"
   ]
  },
  {
   "cell_type": "code",
   "execution_count": 176,
   "metadata": {},
   "outputs": [],
   "source": [
    "total_category_time = df.groupby('category')['duration(min)'].sum().to_dict()\n",
    "total_category_time_DF = pd.DataFrame(list(total_category_time.items()),columns=['category','duration(min)'])\n",
    "total_category_time_DF['hours'] = total_category_time_DF['duration(min)'] // 60\n",
    "total_category_time_DF['min'] = total_category_time_DF['duration(min)'] % 60\n",
    "total_category_time_DF.to_excel('C:\\\\Users\\\\Sazgar\\\\Desktop\\\\python\\\\data analys\\\\category_time.xlsx', index=False)"
   ]
  },
  {
   "cell_type": "markdown",
   "metadata": {},
   "source": [
    "### Q11"
   ]
  },
  {
   "cell_type": "code",
   "execution_count": 177,
   "metadata": {},
   "outputs": [],
   "source": [
    "category_pe_teacher = df.groupby('category')['teacher'].unique().to_dict()\n",
    "category_pe_teacher_DF = pd.DataFrame(list(category_pe_teacher.items()),columns=['category','number_of_teachers'])\n",
    "category_pe_teacher_DF['number_of_teachers'] = category_pe_teacher_DF['number_of_teachers'].apply(len)\n",
    "category_pe_teacher_DF_sort = category_pe_teacher_DF.sort_values(by='number_of_teachers',ascending = False)\n",
    "category_pe_teacher_DF_sort.to_excel('C:\\\\Users\\\\Sazgar\\\\Desktop\\\\python\\\\data analys\\\\category_per_time.xlsx', index=False)\n",
    "# category_pe_teacher_DF_sort.head()\n"
   ]
  },
  {
   "cell_type": "markdown",
   "metadata": {},
   "source": [
    "### Q13"
   ]
  },
  {
   "cell_type": "code",
   "execution_count": 178,
   "metadata": {},
   "outputs": [
    {
     "name": "stdout",
     "output_type": "stream",
     "text": [
      "total discount: 120.8144 million toman or 20.0% discount\n"
     ]
    }
   ],
   "source": [
    "df['discount'] = df['discount'].str.replace('تومان','',regex=False)\n",
    "df['discount'] = df['discount'].str.replace(',','',regex=False)\n",
    "df['discount'] = pd.to_numeric(df['discount'])\n",
    "price_sum = (df['price'].sum())\n",
    "discount_sum = df['discount'].sum()\n",
    "print(f'total discount: {discount_sum/(10**6)} million toman or {(discount_sum/price_sum)*100}% discount')\n"
   ]
  },
  {
   "cell_type": "markdown",
   "metadata": {},
   "source": [
    "### Q14"
   ]
  },
  {
   "cell_type": "code",
   "execution_count": 179,
   "metadata": {},
   "outputs": [
    {
     "data": {
      "text/plain": [
       "<Axes: ylabel='price'>"
      ]
     },
     "execution_count": 179,
     "metadata": {},
     "output_type": "execute_result"
    },
    {
     "data": {
      "image/png": "[encoded data removed]",
      "text/plain": [
       "<Figure size 640x480 with 1 Axes>"
      ]
     },
     "metadata": {},
     "output_type": "display_data"
    }
   ],
   "source": [
    "seasons_salse = df.groupby('Season')['price'].sum()\n",
    "seasons_salse.plot.pie()"
   ]
  },
  {
   "cell_type": "markdown",
   "metadata": {},
   "source": [
    "### Q15"
   ]
  },
  {
   "cell_type": "code",
   "execution_count": 180,
   "metadata": {},
   "outputs": [
    {
     "data": {
      "text/plain": [
       "<Axes: title={'center': 'seasons salse'}, xlabel='seasons', ylabel='total sales'>"
      ]
     },
     "execution_count": 180,
     "metadata": {},
     "output_type": "execute_result"
    },
    {
     "data": {
      "image/png": "[encoded data removed]",
      "text/plain": [
       "<Figure size 640x480 with 1 Axes>"
      ]
     },
     "metadata": {},
     "output_type": "display_data"
    }
   ],
   "source": [
    "seasons_salse = df.groupby('Season')['price'].sum()\n",
    "seasons_salse.plot(kind='bar', title='seasons salse', ylabel='total sales', xlabel='seasons')"
   ]
  }
 ],
 "metadata": {
  "kernelspec": {
   "display_name": "Python 3",
   "language": "python",
   "name": "python3"
  },
  "language_info": {
   "codemirror_mode": {
    "name": "ipython",
    "version": 3
   },
   "file_extension": ".py",
   "mimetype": "text/x-python",
   "name": "python",
   "nbconvert_exporter": "python",
   "pygments_lexer": "ipython3",
   "version": "3.12.4"
  }
 },
 "nbformat": 4,
 "nbformat_minor": 2
}
